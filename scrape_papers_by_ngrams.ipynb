{
 "cells": [
  {
   "cell_type": "markdown",
   "metadata": {},
   "source": [
    "This script allow to get all the papers in openAlex that are including one or more keywords (in a list) in their title or abstract.\n",
    "The keywords are considered here by ngrams."
   ]
  },
  {
   "cell_type": "code",
   "execution_count": 3,
   "metadata": {},
   "outputs": [],
   "source": [
    "import requests\n",
    "import pandas as pd\n",
    "from tqdm import tqdm"
   ]
  },
  {
   "cell_type": "markdown",
   "metadata": {},
   "source": [
    "# open keywords database (AI)"
   ]
  },
  {
   "cell_type": "code",
   "execution_count": 7,
   "metadata": {},
   "outputs": [
    {
     "data": {
      "text/html": [
       "<div>\n",
       "<style scoped>\n",
       "    .dataframe tbody tr th:only-of-type {\n",
       "        vertical-align: middle;\n",
       "    }\n",
       "\n",
       "    .dataframe tbody tr th {\n",
       "        vertical-align: top;\n",
       "    }\n",
       "\n",
       "    .dataframe thead th {\n",
       "        text-align: right;\n",
       "    }\n",
       "</style>\n",
       "<table border=\"1\" class=\"dataframe\">\n",
       "  <thead>\n",
       "    <tr style=\"text-align: right;\">\n",
       "      <th></th>\n",
       "      <th>keyword</th>\n",
       "      <th>class</th>\n",
       "    </tr>\n",
       "  </thead>\n",
       "  <tbody>\n",
       "    <tr>\n",
       "      <th>0</th>\n",
       "      <td>evolutionary algorithm</td>\n",
       "      <td>optimization</td>\n",
       "    </tr>\n",
       "    <tr>\n",
       "      <th>1</th>\n",
       "      <td>simulated annealing</td>\n",
       "      <td>optimization</td>\n",
       "    </tr>\n",
       "    <tr>\n",
       "      <th>2</th>\n",
       "      <td>hierarchical clustering</td>\n",
       "      <td>cluster analysis</td>\n",
       "    </tr>\n",
       "    <tr>\n",
       "      <th>3</th>\n",
       "      <td>principal component analysis</td>\n",
       "      <td>cluster analysis</td>\n",
       "    </tr>\n",
       "    <tr>\n",
       "      <th>4</th>\n",
       "      <td>unsupervised learning</td>\n",
       "      <td>machine learning</td>\n",
       "    </tr>\n",
       "    <tr>\n",
       "      <th>...</th>\n",
       "      <td>...</td>\n",
       "      <td>...</td>\n",
       "    </tr>\n",
       "    <tr>\n",
       "      <th>527</th>\n",
       "      <td>multi swarm optimization</td>\n",
       "      <td>optimization</td>\n",
       "    </tr>\n",
       "    <tr>\n",
       "      <th>528</th>\n",
       "      <td>fast and frugal trees</td>\n",
       "      <td>AI general</td>\n",
       "    </tr>\n",
       "    <tr>\n",
       "      <th>529</th>\n",
       "      <td>chess playing computer</td>\n",
       "      <td>robotics</td>\n",
       "    </tr>\n",
       "    <tr>\n",
       "      <th>530</th>\n",
       "      <td>bias variance tradeoff</td>\n",
       "      <td>optimization</td>\n",
       "    </tr>\n",
       "    <tr>\n",
       "      <th>531</th>\n",
       "      <td>convolutional neural network (cnn)</td>\n",
       "      <td>deep learning</td>\n",
       "    </tr>\n",
       "  </tbody>\n",
       "</table>\n",
       "<p>532 rows × 2 columns</p>\n",
       "</div>"
      ],
      "text/plain": [
       "                                 keyword             class\n",
       "0                 evolutionary algorithm      optimization\n",
       "1                    simulated annealing      optimization\n",
       "2                hierarchical clustering  cluster analysis\n",
       "3           principal component analysis  cluster analysis\n",
       "4                  unsupervised learning  machine learning\n",
       "..                                   ...               ...\n",
       "527             multi swarm optimization      optimization\n",
       "528                fast and frugal trees        AI general\n",
       "529               chess playing computer          robotics\n",
       "530               bias variance tradeoff      optimization\n",
       "531   convolutional neural network (cnn)     deep learning\n",
       "\n",
       "[532 rows x 2 columns]"
      ]
     },
     "execution_count": 7,
     "metadata": {},
     "output_type": "execute_result"
    }
   ],
   "source": [
    "AIkwclass = pd.read_csv('/../classification.txt',sep=';',names=['keyword','class'])\n",
    "AIkwclass"
   ]
  },
  {
   "cell_type": "markdown",
   "metadata": {},
   "source": [
    "# scrape papers for one keyword/ngram"
   ]
  },
  {
   "cell_type": "code",
   "execution_count": 26,
   "metadata": {},
   "outputs": [],
   "source": [
    "def add_request_abstract(string, ngram):\n",
    "    if string[-1] != '=':\n",
    "        return string + ',abstract.search:' + ngram.replace(' ','%')\n",
    "    else:\n",
    "        return string + 'abstract.search:' + ngram.replace(' ','%')\n",
    "    \n",
    "def add_request_title(string, ngram):\n",
    "    if string[-1] != '=':\n",
    "        return string + ',title.search:' + ngram.replace(' ','%')\n",
    "    else:\n",
    "        return string + 'title.search:' + ngram.replace(' ','%')\n",
    "    \n",
    "def add_request_fulltext(string, ngram):\n",
    "    if string[-1] != '=':\n",
    "        return string + ',fulltext.search:' + ngram.replace(' ','%')\n",
    "    else:\n",
    "        return string + 'fulltext.search:' + ngram.replace(' ','%')\n",
    "    \n",
    "def add_publicationYear(string, year):\n",
    "    if string[-1] != '=':\n",
    "        return string + f',publication_year:{year}'\n",
    "    else:\n",
    "        return string + f'publication_year:{year}'\n",
    "    \n",
    "def rebuild_abstract(word_dict): # from the key 'abstract_inverted_index' key per paper\n",
    "    last_word = list(word_dict.keys())[-1]\n",
    "    abstract = [0]*(word_dict[last_word][-1]+1)\n",
    "    for i in word_dict.keys():\n",
    "        for j in word_dict[i]:\n",
    "            abstract[j] = i\n",
    "    abstract = ' '.join(abstract)\n",
    "    return abstract"
   ]
  },
  {
   "cell_type": "code",
   "execution_count": 51,
   "metadata": {},
   "outputs": [],
   "source": [
    "is_work = 'https://api.openalex.org/works?'\n",
    "authentification = 'mailto=myemail@adress.com'\n",
    "# need to have a doi, an abstract and at least one reference\n",
    "filtering = 'filter=has_doi:true,has_abstract:true,has_references:true'\n",
    "results_per_page = 'per-page=100'\n",
    "cursor = 'cursor=*'"
   ]
  },
  {
   "cell_type": "code",
   "execution_count": 52,
   "metadata": {},
   "outputs": [],
   "source": [
    "baseURL = '&'.join([is_work,\n",
    "                    authentification,\n",
    "                    results_per_page,\n",
    "                    cursor,\n",
    "                    filtering])\n",
    "baseURL = add_request_abstract(baseURL, 'chess playing computer')\n",
    "baseURL = add_request_title(baseURL, 'chess playing computer')\n",
    "baseURL = add_publicationYear(baseURL, 2020)"
   ]
  },
  {
   "cell_type": "code",
   "execution_count": 46,
   "metadata": {},
   "outputs": [
    {
     "data": {
      "text/plain": [
       "'https://api.openalex.org/works?&mailto=sylvain.fontaine@cnrs.fr&per-page=100&cursor=*&filter=has_doi:true,has_abstract:true,has_reference:true,abstract.search:chess%playing%computer,title.search:chess%playing%computer,publication_year:2020'"
      ]
     },
     "execution_count": 46,
     "metadata": {},
     "output_type": "execute_result"
    }
   ],
   "source": [
    "baseURL"
   ]
  },
  {
   "cell_type": "code",
   "execution_count": 53,
   "metadata": {},
   "outputs": [],
   "source": [
    "#request for one keyword\n",
    "cc = requests.get(baseURL).json()"
   ]
  },
  {
   "cell_type": "code",
   "execution_count": 55,
   "metadata": {},
   "outputs": [
    {
     "data": {
      "text/html": [
       "<div>\n",
       "<style scoped>\n",
       "    .dataframe tbody tr th:only-of-type {\n",
       "        vertical-align: middle;\n",
       "    }\n",
       "\n",
       "    .dataframe tbody tr th {\n",
       "        vertical-align: top;\n",
       "    }\n",
       "\n",
       "    .dataframe thead th {\n",
       "        text-align: right;\n",
       "    }\n",
       "</style>\n",
       "<table border=\"1\" class=\"dataframe\">\n",
       "  <thead>\n",
       "    <tr style=\"text-align: right;\">\n",
       "      <th></th>\n",
       "      <th>id</th>\n",
       "      <th>doi</th>\n",
       "      <th>title</th>\n",
       "      <th>display_name</th>\n",
       "      <th>relevance_score</th>\n",
       "      <th>publication_year</th>\n",
       "      <th>publication_date</th>\n",
       "      <th>ids</th>\n",
       "      <th>host_venue</th>\n",
       "      <th>type</th>\n",
       "      <th>...</th>\n",
       "      <th>mesh</th>\n",
       "      <th>alternate_host_venues</th>\n",
       "      <th>referenced_works</th>\n",
       "      <th>related_works</th>\n",
       "      <th>ngrams_url</th>\n",
       "      <th>abstract_inverted_index</th>\n",
       "      <th>cited_by_api_url</th>\n",
       "      <th>counts_by_year</th>\n",
       "      <th>updated_date</th>\n",
       "      <th>created_date</th>\n",
       "    </tr>\n",
       "  </thead>\n",
       "  <tbody>\n",
       "    <tr>\n",
       "      <th>0</th>\n",
       "      <td>https://openalex.org/W3047111047</td>\n",
       "      <td>https://doi.org/10.3233/icg-200148</td>\n",
       "      <td>An analysis of games played in world computer ...</td>\n",
       "      <td>An analysis of games played in world computer ...</td>\n",
       "      <td>4.0</td>\n",
       "      <td>2020</td>\n",
       "      <td>2020-01-01</td>\n",
       "      <td>{'openalex': 'https://openalex.org/W3047111047...</td>\n",
       "      <td>{'id': 'https://openalex.org/V30686695', 'issn...</td>\n",
       "      <td>journal-article</td>\n",
       "      <td>...</td>\n",
       "      <td>[]</td>\n",
       "      <td>[]</td>\n",
       "      <td>[https://openalex.org/W1995987707, https://ope...</td>\n",
       "      <td>[https://openalex.org/W880416, https://openale...</td>\n",
       "      <td>https://api.openalex.org/works/W3047111047/ngrams</td>\n",
       "      <td>{'It': [0], 'is': [1], 'been': [2, 22], '46': ...</td>\n",
       "      <td>https://api.openalex.org/works?filter=cites:W3...</td>\n",
       "      <td>[]</td>\n",
       "      <td>2022-08-02T01:15:27.794903</td>\n",
       "      <td>2020-08-10</td>\n",
       "    </tr>\n",
       "  </tbody>\n",
       "</table>\n",
       "<p>1 rows × 27 columns</p>\n",
       "</div>"
      ],
      "text/plain": [
       "                                 id                                 doi  \\\n",
       "0  https://openalex.org/W3047111047  https://doi.org/10.3233/icg-200148   \n",
       "\n",
       "                                               title  \\\n",
       "0  An analysis of games played in world computer ...   \n",
       "\n",
       "                                        display_name  relevance_score  \\\n",
       "0  An analysis of games played in world computer ...              4.0   \n",
       "\n",
       "   publication_year publication_date  \\\n",
       "0              2020       2020-01-01   \n",
       "\n",
       "                                                 ids  \\\n",
       "0  {'openalex': 'https://openalex.org/W3047111047...   \n",
       "\n",
       "                                          host_venue             type  ...  \\\n",
       "0  {'id': 'https://openalex.org/V30686695', 'issn...  journal-article  ...   \n",
       "\n",
       "  mesh alternate_host_venues  \\\n",
       "0   []                    []   \n",
       "\n",
       "                                    referenced_works  \\\n",
       "0  [https://openalex.org/W1995987707, https://ope...   \n",
       "\n",
       "                                       related_works  \\\n",
       "0  [https://openalex.org/W880416, https://openale...   \n",
       "\n",
       "                                          ngrams_url  \\\n",
       "0  https://api.openalex.org/works/W3047111047/ngrams   \n",
       "\n",
       "                             abstract_inverted_index  \\\n",
       "0  {'It': [0], 'is': [1], 'been': [2, 22], '46': ...   \n",
       "\n",
       "                                    cited_by_api_url counts_by_year  \\\n",
       "0  https://api.openalex.org/works?filter=cites:W3...             []   \n",
       "\n",
       "                 updated_date created_date  \n",
       "0  2022-08-02T01:15:27.794903   2020-08-10  \n",
       "\n",
       "[1 rows x 27 columns]"
      ]
     },
     "execution_count": 55,
     "metadata": {},
     "output_type": "execute_result"
    }
   ],
   "source": [
    "pd.DataFrame(cc['results'])"
   ]
  },
  {
   "cell_type": "markdown",
   "metadata": {},
   "source": [
    "# scrape papers for mutiple keywords/ngrams"
   ]
  },
  {
   "cell_type": "code",
   "execution_count": 51,
   "metadata": {},
   "outputs": [],
   "source": [
    "is_work = 'https://api.openalex.org/works?'\n",
    "authentification = 'mailto=myemail@adress.com'\n",
    "# need to have a doi, an abstract and at least one reference\n",
    "filtering = 'filter=has_doi:true,has_abstract:true,has_references:true'\n",
    "results_per_page = 'per-page=100'"
   ]
  },
  {
   "cell_type": "code",
   "execution_count": 68,
   "metadata": {},
   "outputs": [],
   "source": [
    "kw_list = [i[1:] for i in AIkwclass['keyword']]"
   ]
  },
  {
   "cell_type": "code",
   "execution_count": 81,
   "metadata": {},
   "outputs": [
    {
     "name": "stderr",
     "output_type": "stream",
     "text": [
      "  0%|          | 0/532 [01:36<?, ?it/s]\n"
     ]
    }
   ],
   "source": [
    "papers = []\n",
    "for kw in tqdm(kw_list):\n",
    "    cursor = '*'\n",
    "    l = 1\n",
    "    while (cursor != None) & (l != 0):\n",
    "        baseURL = '&'.join([is_work,\n",
    "                        authentification,\n",
    "                        results_per_page,\n",
    "                        f'cursor={cursor}',\n",
    "                        filtering])\n",
    "        baseURL = add_request_abstract(baseURL, kw)\n",
    "        baseURL = add_request_title(baseURL, kw)\n",
    "        #baseURL = add_request_fulltext(baseURL, kw)\n",
    "        response = requests.get(baseURL).json()\n",
    "        papers.extend(response['results'])\n",
    "        cursor = response['meta']['next_cursor']\n",
    "        l = len(response['results'])\n",
    "    # break # for one keyword testing"
   ]
  }
 ],
 "metadata": {
  "kernelspec": {
   "display_name": "Python 3 (ipykernel)",
   "language": "python",
   "name": "python3"
  },
  "language_info": {
   "codemirror_mode": {
    "name": "ipython",
    "version": 3
   },
   "file_extension": ".py",
   "mimetype": "text/x-python",
   "name": "python",
   "nbconvert_exporter": "python",
   "pygments_lexer": "ipython3",
   "version": "3.9.7"
  }
 },
 "nbformat": 4,
 "nbformat_minor": 4
}
